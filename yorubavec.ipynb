{
  "nbformat": 4,
  "nbformat_minor": 0,
  "metadata": {
    "colab": {
      "name": "yorubavec.ipynb",
      "provenance": [],
      "include_colab_link": true
    },
    "kernelspec": {
      "name": "python3",
      "display_name": "Python 3"
    },
    "accelerator": "GPU"
  },
  "cells": [
    {
      "cell_type": "markdown",
      "metadata": {
        "id": "view-in-github",
        "colab_type": "text"
      },
      "source": [
        "<a href=\"https://colab.research.google.com/github/WuraolaOyewusi/Yoruba-Word-Vector-Representation-with-fastText/blob/master/yorubavec.ipynb\" target=\"_parent\"><img src=\"https://colab.research.google.com/assets/colab-badge.svg\" alt=\"Open In Colab\"/></a>"
      ]
    },
    {
      "cell_type": "code",
      "metadata": {
        "id": "J_7S4_gUD0Tt",
        "colab_type": "code",
        "colab": {}
      },
      "source": [
        "!pip uninstall numpy"
      ],
      "execution_count": 0,
      "outputs": []
    },
    {
      "cell_type": "code",
      "metadata": {
        "id": "fT0BU3oxDx2B",
        "colab_type": "code",
        "colab": {}
      },
      "source": [
        "pip install numpy==1.13"
      ],
      "execution_count": 0,
      "outputs": []
    },
    {
      "cell_type": "code",
      "metadata": {
        "id": "eMmlV-GG_Fbc",
        "colab_type": "code",
        "colab": {
          "base_uri": "https://localhost:8080/",
          "height": 254
        },
        "outputId": "5625d6d0-a975-420d-ac28-2630411bd549"
      },
      "source": [
        "!pip install fasttext"
      ],
      "execution_count": 1,
      "outputs": [
        {
          "output_type": "stream",
          "text": [
            "Collecting fasttext\n",
            "\u001b[?25l  Downloading https://files.pythonhosted.org/packages/10/61/2e01f1397ec533756c1d893c22d9d5ed3fce3a6e4af1976e0d86bb13ea97/fasttext-0.9.1.tar.gz (57kB)\n",
            "\r\u001b[K     |█████▊                          | 10kB 20.1MB/s eta 0:00:01\r\u001b[K     |███████████▍                    | 20kB 3.9MB/s eta 0:00:01\r\u001b[K     |█████████████████               | 30kB 5.6MB/s eta 0:00:01\r\u001b[K     |██████████████████████▊         | 40kB 3.8MB/s eta 0:00:01\r\u001b[K     |████████████████████████████▍   | 51kB 4.7MB/s eta 0:00:01\r\u001b[K     |████████████████████████████████| 61kB 3.7MB/s \n",
            "\u001b[?25hRequirement already satisfied: pybind11>=2.2 in /usr/local/lib/python3.6/dist-packages (from fasttext) (2.4.3)\n",
            "Requirement already satisfied: setuptools>=0.7.0 in /usr/local/lib/python3.6/dist-packages (from fasttext) (41.4.0)\n",
            "Requirement already satisfied: numpy in /usr/local/lib/python3.6/dist-packages (from fasttext) (1.16.5)\n",
            "Building wheels for collected packages: fasttext\n",
            "  Building wheel for fasttext (setup.py) ... \u001b[?25l\u001b[?25hdone\n",
            "  Created wheel for fasttext: filename=fasttext-0.9.1-cp36-cp36m-linux_x86_64.whl size=2389259 sha256=18f933c153791196594f5d08cf9f7ea8859b6622e79912513b1dc89089dff054\n",
            "  Stored in directory: /root/.cache/pip/wheels/9f/f0/04/caa82c912aee89ce76358ff954f3f0729b7577c8ff23a292e3\n",
            "Successfully built fasttext\n",
            "Installing collected packages: fasttext\n",
            "Successfully installed fasttext-0.9.1\n"
          ],
          "name": "stdout"
        }
      ]
    },
    {
      "cell_type": "markdown",
      "metadata": {
        "id": "CRgd74A8AUXO",
        "colab_type": "text"
      },
      "source": [
        "###Download sample yoruba text from https://github.com/Niger-Volta-LTI/"
      ]
    },
    {
      "cell_type": "code",
      "metadata": {
        "id": "YdB-QLactw01",
        "colab_type": "code",
        "colab": {
          "base_uri": "https://localhost:8080/",
          "height": 217
        },
        "outputId": "6ccf44ae-9d2d-4289-eff2-4192cd5cc27a"
      },
      "source": [
        "!wget https://raw.githubusercontent.com/Niger-Volta-LTI/yoruba-text/master/Iroyin/yoglobalvoices.txt  #Download sample Yoruba text"
      ],
      "execution_count": 2,
      "outputs": [
        {
          "output_type": "stream",
          "text": [
            "--2019-10-23 18:44:41--  https://raw.githubusercontent.com/Niger-Volta-LTI/yoruba-text/master/Iroyin/yoglobalvoices.txt\n",
            "Resolving raw.githubusercontent.com (raw.githubusercontent.com)... 151.101.0.133, 151.101.64.133, 151.101.128.133, ...\n",
            "Connecting to raw.githubusercontent.com (raw.githubusercontent.com)|151.101.0.133|:443... connected.\n",
            "HTTP request sent, awaiting response... 200 OK\n",
            "Length: 183775 (179K) [text/plain]\n",
            "Saving to: ‘yoglobalvoices.txt’\n",
            "\n",
            "\ryoglobalvoices.txt    0%[                    ]       0  --.-KB/s               \ryoglobalvoices.txt  100%[===================>] 179.47K  --.-KB/s    in 0.02s   \n",
            "\n",
            "2019-10-23 18:44:42 (10.9 MB/s) - ‘yoglobalvoices.txt’ saved [183775/183775]\n",
            "\n"
          ],
          "name": "stdout"
        }
      ]
    },
    {
      "cell_type": "markdown",
      "metadata": {
        "id": "2tYdZgVvADz-",
        "colab_type": "text"
      },
      "source": [
        "###Download pretrained fasttext vectors from https://fasttext.cc/docs/en/pretrained-vectors.html"
      ]
    },
    {
      "cell_type": "code",
      "metadata": {
        "id": "W_yrOhfR3HUJ",
        "colab_type": "code",
        "colab": {
          "base_uri": "https://localhost:8080/",
          "height": 217
        },
        "outputId": "578c7722-e034-406e-990a-1411b80fa645"
      },
      "source": [
        "!wget https://dl.fbaipublicfiles.com/fasttext/vectors-crawl/cc.yo.300.bin.gz        #Download Yoruba pretrained model"
      ],
      "execution_count": 3,
      "outputs": [
        {
          "output_type": "stream",
          "text": [
            "--2019-10-23 18:45:08--  https://dl.fbaipublicfiles.com/fasttext/vectors-crawl/cc.yo.300.bin.gz\n",
            "Resolving dl.fbaipublicfiles.com (dl.fbaipublicfiles.com)... 104.20.22.166, 104.20.6.166, 2606:4700:10::6814:6a6, ...\n",
            "Connecting to dl.fbaipublicfiles.com (dl.fbaipublicfiles.com)|104.20.22.166|:443... connected.\n",
            "HTTP request sent, awaiting response... 200 OK\n",
            "Length: 2405815918 (2.2G) [application/octet-stream]\n",
            "Saving to: ‘cc.yo.300.bin.gz’\n",
            "\n",
            "cc.yo.300.bin.gz    100%[===================>]   2.24G  11.8MB/s    in 3m 16s  \n",
            "\n",
            "2019-10-23 18:48:25 (11.7 MB/s) - ‘cc.yo.300.bin.gz’ saved [2405815918/2405815918]\n",
            "\n"
          ],
          "name": "stdout"
        }
      ]
    },
    {
      "cell_type": "code",
      "metadata": {
        "id": "uWrhaH71MVJo",
        "colab_type": "code",
        "colab": {}
      },
      "source": [
        "%%capture\n",
        "import nltk\n",
        "from pprint import pprint\n",
        "from gensim.models import FastText\n",
        "import fasttext\n",
        "nltk.download('punkt')\n",
        "from nltk import word_tokenize"
      ],
      "execution_count": 0,
      "outputs": []
    },
    {
      "cell_type": "code",
      "metadata": {
        "id": "9YSWvd3g4SYj",
        "colab_type": "code",
        "colab": {}
      },
      "source": [
        "!gunzip cc.yo.300.bin.gz                                     #Unzip pretrained model"
      ],
      "execution_count": 0,
      "outputs": []
    },
    {
      "cell_type": "code",
      "metadata": {
        "id": "Nz7iIPUFty6M",
        "colab_type": "code",
        "colab": {}
      },
      "source": [
        "#!cat yoglobalvoices.txt"
      ],
      "execution_count": 0,
      "outputs": []
    },
    {
      "cell_type": "markdown",
      "metadata": {
        "id": "J16sygf07BX9",
        "colab_type": "text"
      },
      "source": [
        "###Explore sample yoruba text\n"
      ]
    },
    {
      "cell_type": "code",
      "metadata": {
        "id": "d_inbNm_ZtoP",
        "colab_type": "code",
        "colab": {
          "base_uri": "https://localhost:8080/",
          "height": 74
        },
        "outputId": "7162e3ee-476f-445d-b4b4-6d1f451a0807"
      },
      "source": [
        "with open('yoglobalvoices.txt') as f:          #Read Yoruba Text\n",
        "    yoruba_text = \"\".join(f.readlines())\n",
        "\n",
        "yoruba_tokens = word_tokenize(yoruba_text)\n",
        "print(len(yoruba_tokens))\n",
        "print(yoruba_tokens[:20])"
      ],
      "execution_count": 21,
      "outputs": [
        {
          "output_type": "stream",
          "text": [
            "27487\n",
            "['Ìjọba', 'Tanzania', 'fi', 'Ajìjàgbara', 'Ọmọ', 'Orílẹ̀-èdèe', 'Uganda', 'sí', 'àtìmọ́lé', ',', 'wọ́n', 'sì', 'lé', 'e', 'kúrò', 'nílùú', 'Wairagala', 'Wakabi', ',', 'àgbà']\n"
          ],
          "name": "stdout"
        }
      ]
    },
    {
      "cell_type": "code",
      "metadata": {
        "id": "L1s1MdX4_vZP",
        "colab_type": "code",
        "colab": {}
      },
      "source": [
        "#pprint(yoruba_text)"
      ],
      "execution_count": 0,
      "outputs": []
    },
    {
      "cell_type": "markdown",
      "metadata": {
        "id": "M3dgtMRb6kq9",
        "colab_type": "text"
      },
      "source": [
        "### How to use fasttext implementation of fastText algorithm for traininng\n"
      ]
    },
    {
      "cell_type": "code",
      "metadata": {
        "id": "wOken7oXI0lz",
        "colab_type": "code",
        "colab": {}
      },
      "source": [
        "import fasttext\n",
        "yorumodel = fasttext.train_unsupervised('yoglobalvoices.txt',epoch=10,dim=300)    #train model using fasttext\n",
        "yorumodel.save_model('yoglobal.bin')    #save trained model"
      ],
      "execution_count": 0,
      "outputs": []
    },
    {
      "cell_type": "code",
      "metadata": {
        "id": "ic1I5dJoBUoR",
        "colab_type": "code",
        "colab": {}
      },
      "source": [
        "#pprint(yorumodel.words)"
      ],
      "execution_count": 0,
      "outputs": []
    },
    {
      "cell_type": "code",
      "metadata": {
        "id": "DE26mmYh-Wx8",
        "colab_type": "code",
        "colab": {}
      },
      "source": [
        "trained_model = FastText.load_fasttext_format('yoglobal.bin')"
      ],
      "execution_count": 0,
      "outputs": []
    },
    {
      "cell_type": "code",
      "metadata": {
        "id": "O8aoYeL6-7B8",
        "colab_type": "code",
        "colab": {}
      },
      "source": [
        "pretrained_model = FastText.load_fasttext_format('cc.yo.300.bin')"
      ],
      "execution_count": 0,
      "outputs": []
    },
    {
      "cell_type": "code",
      "metadata": {
        "id": "FW_8BsJU72k7",
        "colab_type": "code",
        "colab": {
          "base_uri": "https://localhost:8080/",
          "height": 35
        },
        "outputId": "b59cfcbd-78c2-4086-c3b5-c01d3d59584c"
      },
      "source": [
        "pprint(trained_model.wv.doesnt_match([\"Ìjọba\", \"Ìbílẹ\", \"Abùjá\", \"ọkọ\"]))"
      ],
      "execution_count": 6,
      "outputs": [
        {
          "output_type": "stream",
          "text": [
            "'Ìbílẹ'\n"
          ],
          "name": "stdout"
        }
      ]
    },
    {
      "cell_type": "code",
      "metadata": {
        "id": "HzIDe3a0_bxx",
        "colab_type": "code",
        "colab": {
          "base_uri": "https://localhost:8080/",
          "height": 35
        },
        "outputId": "699d9a50-a672-496b-aaec-1f3fe4d65439"
      },
      "source": [
        "pprint(pretrained_model.wv.doesnt_match([\"Ìjọba\", \"Ìbílẹ\", \"Abùjá\", \"ọkọ\"]))"
      ],
      "execution_count": 7,
      "outputs": [
        {
          "output_type": "stream",
          "text": [
            "'ọkọ'\n"
          ],
          "name": "stdout"
        }
      ]
    },
    {
      "cell_type": "code",
      "metadata": {
        "id": "CTGPdry__kSE",
        "colab_type": "code",
        "colab": {
          "base_uri": "https://localhost:8080/",
          "height": 35
        },
        "outputId": "c288936c-798e-4d40-bda3-2b2533da6e17"
      },
      "source": [
        "pprint(trained_model.wv.doesnt_match([\"Ìjọba\", \"ìyàwó\",\"Ọmọ\",\"ọkọ\"]))"
      ],
      "execution_count": 8,
      "outputs": [
        {
          "output_type": "stream",
          "text": [
            "'ìyàwó'\n"
          ],
          "name": "stdout"
        }
      ]
    },
    {
      "cell_type": "code",
      "metadata": {
        "id": "BIWIxmmzAQiR",
        "colab_type": "code",
        "colab": {
          "base_uri": "https://localhost:8080/",
          "height": 35
        },
        "outputId": "d10098e8-1862-488e-e2bd-fa3c741b8eae"
      },
      "source": [
        "pprint(pretrained_model.wv.doesnt_match([\"Ìjọba\", \"ìyàwó\",\"Ọmọ\",\"ọkọ\"]))"
      ],
      "execution_count": 9,
      "outputs": [
        {
          "output_type": "stream",
          "text": [
            "'Ìjọba'\n"
          ],
          "name": "stdout"
        }
      ]
    },
    {
      "cell_type": "code",
      "metadata": {
        "id": "HOS9ZZ8sbmNT",
        "colab_type": "code",
        "colab": {
          "base_uri": "https://localhost:8080/",
          "height": 199
        },
        "outputId": "bb252c9d-825d-42bb-f7a9-61fdf5dcd499"
      },
      "source": [
        "trained_model.wv.most_similar(positive=['ọkùnrin', 'bàbá'], negative=[\"obìrin\"])"
      ],
      "execution_count": 10,
      "outputs": [
        {
          "output_type": "execute_result",
          "data": {
            "text/plain": [
              "[('lẹ́yìn', 0.11785450577735901),\n",
              " ('àárín', 0.10498246550559998),\n",
              " ('ìdá', 0.09333144873380661),\n",
              " ('tẹ̀', 0.08053965866565704),\n",
              " ('mọ̀', 0.08035025745630264),\n",
              " ('mọ́', 0.06920996308326721),\n",
              " ('pọ̀', 0.06716396659612656),\n",
              " ('sílẹ̀', 0.0633367970585823),\n",
              " ('ọwọ́', 0.06136838719248772),\n",
              " ('ọ̀pọ̀', 0.06086157634854317)]"
            ]
          },
          "metadata": {
            "tags": []
          },
          "execution_count": 10
        }
      ]
    },
    {
      "cell_type": "code",
      "metadata": {
        "id": "vnzK1dk2BfqS",
        "colab_type": "code",
        "colab": {
          "base_uri": "https://localhost:8080/",
          "height": 199
        },
        "outputId": "9819894d-cd6b-4401-d1f9-3ba9916d86b1"
      },
      "source": [
        "pretrained_model.wv.most_similar(positive=['ọkùnrin', 'bàbá'], negative=[\"obìrin\"])"
      ],
      "execution_count": 11,
      "outputs": [
        {
          "output_type": "execute_result",
          "data": {
            "text/plain": [
              "[('Omobìnrin', 0.6283954977989197),\n",
              " ('kínrin', 0.6255975961685181),\n",
              " ('fóbìnrin', 0.6219295263290405),\n",
              " ('arákùnrin', 0.6108750104904175),\n",
              " ('aránbìnrin', 0.6077451705932617),\n",
              " ('Ianrin', 0.6050188541412354),\n",
              " ('Aganrin', 0.5930180549621582),\n",
              " ('yanrin', 0.5929874181747437),\n",
              " ('-bìnrin', 0.5906635522842407),\n",
              " ('tobùnrin', 0.5903921127319336)]"
            ]
          },
          "metadata": {
            "tags": []
          },
          "execution_count": 11
        }
      ]
    },
    {
      "cell_type": "code",
      "metadata": {
        "id": "-srkWazz_sGu",
        "colab_type": "code",
        "colab": {
          "base_uri": "https://localhost:8080/",
          "height": 199
        },
        "outputId": "0b890537-9566-4bbb-cf87-34ca1750cffb"
      },
      "source": [
        "pprint(trained_model.wv.most_similar('ọkọ'))"
      ],
      "execution_count": 12,
      "outputs": [
        {
          "output_type": "stream",
          "text": [
            "[('ọdún-un', 0.9934332370758057),\n",
            " ('du', 0.9933178424835205),\n",
            " ('India', 0.9933065176010132),\n",
            " ('Jannat', 0.9933027625083923),\n",
            " ('ajìjàǹgbara', 0.9932816028594971),\n",
            " ('agbára', 0.9932748079299927),\n",
            " ('àárín-in', 0.993270754814148),\n",
            " ('Tanzania', 0.9932376146316528),\n",
            " ('Pakistan', 0.9932341575622559),\n",
            " ('Prem', 0.9932260513305664)]\n"
          ],
          "name": "stdout"
        }
      ]
    },
    {
      "cell_type": "code",
      "metadata": {
        "id": "BT1a_qGuCKUq",
        "colab_type": "code",
        "colab": {
          "base_uri": "https://localhost:8080/",
          "height": 199
        },
        "outputId": "e9feb18d-c7b3-4e37-b18e-4ee61a5fe3f6"
      },
      "source": [
        "pprint(pretrained_model.wv.most_similar('ọkọ'))"
      ],
      "execution_count": 13,
      "outputs": [
        {
          "output_type": "stream",
          "text": [
            "[('Láìfòtápè', 0.7003475427627563),\n",
            " ('dojúkọ', 0.6962067484855652),\n",
            " ('wọnú', 0.6954782009124756),\n",
            " ('rìndínlọ', 0.6948665380477905),\n",
            " ('Ìforúkọsílẹ', 0.6943686008453369),\n",
            " ('ojú-omi', 0.6940218210220337),\n",
            " ('ṣakóso', 0.689141035079956),\n",
            " ('pò.lọpọ', 0.6798331141471863),\n",
            " ('FV', 0.6793243885040283),\n",
            " ('jáagbà', 0.674048662185669)]\n"
          ],
          "name": "stdout"
        }
      ]
    },
    {
      "cell_type": "code",
      "metadata": {
        "id": "WSPQq3XI_07c",
        "colab_type": "code",
        "colab": {
          "base_uri": "https://localhost:8080/",
          "height": 199
        },
        "outputId": "5eb83d1d-380a-4e72-ed78-e680447868d6"
      },
      "source": [
        "pprint(trained_model.wv.most_similar('mótò'))"
      ],
      "execution_count": 14,
      "outputs": [
        {
          "output_type": "stream",
          "text": [
            "[('lẹ́yìn', 0.08313564211130142),\n",
            " ('wọ́n', 0.06453496217727661),\n",
            " ('ọwọ́', 0.06353828310966492),\n",
            " ('ẹ̀tọ́', 0.060619670897722244),\n",
            " ('mìíràn', 0.056525200605392456),\n",
            " ('ìròyìn', 0.05568384751677513),\n",
            " ('àgbà', 0.05525173991918564),\n",
            " ('ìṣẹ̀lẹ̀', 0.0510491244494915),\n",
            " ('ìlú', 0.04787490516901016),\n",
            " ('ẹ̀yìn', 0.04646541178226471)]\n"
          ],
          "name": "stdout"
        }
      ]
    },
    {
      "cell_type": "code",
      "metadata": {
        "id": "drhQ2aWCCYsq",
        "colab_type": "code",
        "colab": {
          "base_uri": "https://localhost:8080/",
          "height": 199
        },
        "outputId": "29bb68a7-dadd-4e2a-aeaa-554f2a28ada3"
      },
      "source": [
        "pprint(pretrained_model.wv.most_similar('mótò'))"
      ],
      "execution_count": 15,
      "outputs": [
        {
          "output_type": "stream",
          "text": [
            "[('ìmúnáwa', 0.8246235251426697),\n",
            " ('lanàá', 0.8159984350204468),\n",
            " ('aláìlagbára', 0.8089761734008789),\n",
            " ('móto', 0.8074500560760498),\n",
            " ('apótí', 0.8071770668029785),\n",
            " ('mósálásí', 0.804502010345459),\n",
            " ('ìnúnáwa', 0.8038191795349121),\n",
            " ('ibódòti', 0.7999272346496582),\n",
            " ('gbé.Lo', 0.7911336421966553),\n",
            " ('géré', 0.7767088413238525)]\n"
          ],
          "name": "stdout"
        }
      ]
    },
    {
      "cell_type": "code",
      "metadata": {
        "id": "G3fCewK2AFhY",
        "colab_type": "code",
        "colab": {
          "base_uri": "https://localhost:8080/",
          "height": 199
        },
        "outputId": "7f536384-b4fd-4408-cc66-a3bd80211734"
      },
      "source": [
        "pprint(trained_model.wv.most_similar('ṣòkòtò'))"
      ],
      "execution_count": 16,
      "outputs": [
        {
          "output_type": "stream",
          "text": [
            "[('lẹ́yìn', 0.08313564211130142),\n",
            " ('wọ́n', 0.06453496217727661),\n",
            " ('ọwọ́', 0.06353828310966492),\n",
            " ('ẹ̀tọ́', 0.060619670897722244),\n",
            " ('mìíràn', 0.056525200605392456),\n",
            " ('ìròyìn', 0.05568384751677513),\n",
            " ('àgbà', 0.05525173991918564),\n",
            " ('ìṣẹ̀lẹ̀', 0.0510491244494915),\n",
            " ('ìlú', 0.04787490516901016),\n",
            " ('ẹ̀yìn', 0.04646541178226471)]\n"
          ],
          "name": "stdout"
        }
      ]
    },
    {
      "cell_type": "code",
      "metadata": {
        "id": "oGh6dggvCp6a",
        "colab_type": "code",
        "colab": {
          "base_uri": "https://localhost:8080/",
          "height": 199
        },
        "outputId": "7c419dbe-fbc7-4d42-8a75-116974697474"
      },
      "source": [
        "pprint(pretrained_model.wv.most_similar('ṣòkòtò'))"
      ],
      "execution_count": 17,
      "outputs": [
        {
          "output_type": "stream",
          "text": [
            "[('lúbúlúbú', 0.5231637954711914),\n",
            " ('dùdú', 0.5202898383140564),\n",
            " ('rúsúrúsú', 0.5190081596374512),\n",
            " ('imólè', 0.5168752074241638),\n",
            " ('Ìbòrí', 0.5160171389579773),\n",
            " ('abéré', 0.5149023532867432),\n",
            " ('òfefè', 0.5115221738815308),\n",
            " ('àtiyé', 0.5111453533172607),\n",
            " ('kádún', 0.5105373859405518),\n",
            " ('sónso', 0.5093499422073364)]\n"
          ],
          "name": "stdout"
        }
      ]
    },
    {
      "cell_type": "code",
      "metadata": {
        "id": "NT74sOfMAyft",
        "colab_type": "code",
        "colab": {
          "base_uri": "https://localhost:8080/",
          "height": 199
        },
        "outputId": "6d060904-8179-43ae-f093-7917176bbe8a"
      },
      "source": [
        "pprint(trained_model.wv.most_similar('àgbàlagbà'))"
      ],
      "execution_count": 18,
      "outputs": [
        {
          "output_type": "stream",
          "text": [
            "[('India', 0.9988933801651001),\n",
            " ('Prem', 0.9988826513290405),\n",
            " ('agbára', 0.9988664388656616),\n",
            " ('ìpolongo', 0.9988217353820801),\n",
            " ('Mauritania', 0.9988187551498413),\n",
            " ('Roma', 0.99880051612854),\n",
            " ('panchayat', 0.9987775683403015),\n",
            " ('ajìjàǹgbara', 0.9987406134605408),\n",
            " ('Lhamo', 0.9987288117408752),\n",
            " ('gbàgede', 0.9987196922302246)]\n"
          ],
          "name": "stdout"
        }
      ]
    },
    {
      "cell_type": "code",
      "metadata": {
        "id": "18KHJ_IPC56Z",
        "colab_type": "code",
        "colab": {
          "base_uri": "https://localhost:8080/",
          "height": 199
        },
        "outputId": "0daf7b9b-cfa0-4a9e-88aa-e194242d60a0"
      },
      "source": [
        "pprint(pretrained_model.wv.most_similar('àgbàlagbà'))"
      ],
      "execution_count": 19,
      "outputs": [
        {
          "output_type": "stream",
          "text": [
            "[('lajò', 0.8152036666870117),\n",
            " ('gbórìgì', 0.7199559807777405),\n",
            " ('gbóyín', 0.7070217728614807),\n",
            " ('méjèjì', 0.7051678895950317),\n",
            " ('méèje', 0.702250063419342),\n",
            " ('Ùmàdín', 0.7004330158233643),\n",
            " ('méje-méje', 0.6873884201049805),\n",
            " ('pèrè-pèrè', 0.685404896736145),\n",
            " ('fífúnni', 0.6832111477851868),\n",
            " ('òrànmíyàn', 0.6815369129180908)]\n"
          ],
          "name": "stdout"
        }
      ]
    },
    {
      "cell_type": "code",
      "metadata": {
        "id": "F8Wb_MvkEa2P",
        "colab_type": "code",
        "colab": {
          "base_uri": "https://localhost:8080/",
          "height": 35
        },
        "outputId": "4dbfc821-6e8e-4660-b98b-bb07dd6e003e"
      },
      "source": [
        "print(trained_model.wv.similarity('ọkọ','ìyáwó'))"
      ],
      "execution_count": 21,
      "outputs": [
        {
          "output_type": "stream",
          "text": [
            "-0.0458616\n"
          ],
          "name": "stdout"
        }
      ]
    },
    {
      "cell_type": "code",
      "metadata": {
        "id": "vSNyAwgbFEup",
        "colab_type": "code",
        "colab": {
          "base_uri": "https://localhost:8080/",
          "height": 35
        },
        "outputId": "e2579a15-a785-4fd9-be5f-adae6ea6e3a1"
      },
      "source": [
        "print(pretrained_model.wv.similarity('ọkọ','ìyáwó'))"
      ],
      "execution_count": 25,
      "outputs": [
        {
          "output_type": "stream",
          "text": [
            "0.0847718\n"
          ],
          "name": "stdout"
        }
      ]
    },
    {
      "cell_type": "code",
      "metadata": {
        "id": "Kmo3orOXFKCA",
        "colab_type": "code",
        "colab": {
          "base_uri": "https://localhost:8080/",
          "height": 35
        },
        "outputId": "e7510de8-dbff-41b3-ab49-bab45821917b"
      },
      "source": [
        "print(trained_model.wv.similarity('ìyá','ìyáwó'))"
      ],
      "execution_count": 26,
      "outputs": [
        {
          "output_type": "stream",
          "text": [
            "0.0332365\n"
          ],
          "name": "stdout"
        }
      ]
    },
    {
      "cell_type": "code",
      "metadata": {
        "id": "BtMXSWyUEpVi",
        "colab_type": "code",
        "colab": {
          "base_uri": "https://localhost:8080/",
          "height": 35
        },
        "outputId": "a401f91b-7304-43c6-dc7a-0f9d9c5a7be2"
      },
      "source": [
        "print(pretrained_model.wv.similarity('ìyá','ìyáwó'))"
      ],
      "execution_count": 22,
      "outputs": [
        {
          "output_type": "stream",
          "text": [
            "0.0882254\n"
          ],
          "name": "stdout"
        }
      ]
    },
    {
      "cell_type": "code",
      "metadata": {
        "id": "Hp5HlBVd8VDz",
        "colab_type": "code",
        "colab": {
          "base_uri": "https://localhost:8080/",
          "height": 35
        },
        "outputId": "3d6251d6-529d-4fbb-fec5-eec28c015f96"
      },
      "source": [
        "print(trained_model.wv.similarity('ọkọ','mótò'))"
      ],
      "execution_count": 23,
      "outputs": [
        {
          "output_type": "stream",
          "text": [
            "-0.050126\n"
          ],
          "name": "stdout"
        }
      ]
    },
    {
      "cell_type": "code",
      "metadata": {
        "id": "Ley5ITBjFP6V",
        "colab_type": "code",
        "colab": {
          "base_uri": "https://localhost:8080/",
          "height": 35
        },
        "outputId": "7d712147-a4c4-43ac-ec81-27f4e80f9c91"
      },
      "source": [
        "print(pretrained_model.wv.similarity('ọkọ','mótò'))"
      ],
      "execution_count": 27,
      "outputs": [
        {
          "output_type": "stream",
          "text": [
            "0.26675\n"
          ],
          "name": "stdout"
        }
      ]
    },
    {
      "cell_type": "code",
      "metadata": {
        "id": "cTqTKRwt-TJY",
        "colab_type": "code",
        "colab": {
          "base_uri": "https://localhost:8080/",
          "height": 322
        },
        "outputId": "1da3b468-d3f6-4231-ee54-890cdfac6a75"
      },
      "source": [
        "print(trained_model.wv.similarity('aṣo','ẹ̀wù'))"
      ],
      "execution_count": 24,
      "outputs": [
        {
          "output_type": "error",
          "ename": "KeyError",
          "evalue": "ignored",
          "traceback": [
            "\u001b[0;31m---------------------------------------------------------------------------\u001b[0m",
            "\u001b[0;31mKeyError\u001b[0m                                  Traceback (most recent call last)",
            "\u001b[0;32m<ipython-input-24-6177e0ab7bac>\u001b[0m in \u001b[0;36m<module>\u001b[0;34m()\u001b[0m\n\u001b[0;32m----> 1\u001b[0;31m \u001b[0mprint\u001b[0m\u001b[0;34m(\u001b[0m\u001b[0mtrained_model\u001b[0m\u001b[0;34m.\u001b[0m\u001b[0mwv\u001b[0m\u001b[0;34m.\u001b[0m\u001b[0msimilarity\u001b[0m\u001b[0;34m(\u001b[0m\u001b[0;34m'aṣo'\u001b[0m\u001b[0;34m,\u001b[0m\u001b[0;34m'ẹ̀wù'\u001b[0m\u001b[0;34m)\u001b[0m\u001b[0;34m)\u001b[0m\u001b[0;34m\u001b[0m\u001b[0;34m\u001b[0m\u001b[0m\n\u001b[0m",
            "\u001b[0;32m/usr/local/lib/python3.6/dist-packages/gensim/models/keyedvectors.py\u001b[0m in \u001b[0;36msimilarity\u001b[0;34m(self, w1, w2)\u001b[0m\n\u001b[1;32m    990\u001b[0m \u001b[0;34m\u001b[0m\u001b[0m\n\u001b[1;32m    991\u001b[0m         \"\"\"\n\u001b[0;32m--> 992\u001b[0;31m         \u001b[0;32mreturn\u001b[0m \u001b[0mdot\u001b[0m\u001b[0;34m(\u001b[0m\u001b[0mmatutils\u001b[0m\u001b[0;34m.\u001b[0m\u001b[0munitvec\u001b[0m\u001b[0;34m(\u001b[0m\u001b[0mself\u001b[0m\u001b[0;34m[\u001b[0m\u001b[0mw1\u001b[0m\u001b[0;34m]\u001b[0m\u001b[0;34m)\u001b[0m\u001b[0;34m,\u001b[0m \u001b[0mmatutils\u001b[0m\u001b[0;34m.\u001b[0m\u001b[0munitvec\u001b[0m\u001b[0;34m(\u001b[0m\u001b[0mself\u001b[0m\u001b[0;34m[\u001b[0m\u001b[0mw2\u001b[0m\u001b[0;34m]\u001b[0m\u001b[0;34m)\u001b[0m\u001b[0;34m)\u001b[0m\u001b[0;34m\u001b[0m\u001b[0;34m\u001b[0m\u001b[0m\n\u001b[0m\u001b[1;32m    993\u001b[0m \u001b[0;34m\u001b[0m\u001b[0m\n\u001b[1;32m    994\u001b[0m     \u001b[0;32mdef\u001b[0m \u001b[0mn_similarity\u001b[0m\u001b[0;34m(\u001b[0m\u001b[0mself\u001b[0m\u001b[0;34m,\u001b[0m \u001b[0mws1\u001b[0m\u001b[0;34m,\u001b[0m \u001b[0mws2\u001b[0m\u001b[0;34m)\u001b[0m\u001b[0;34m:\u001b[0m\u001b[0;34m\u001b[0m\u001b[0;34m\u001b[0m\u001b[0m\n",
            "\u001b[0;32m/usr/local/lib/python3.6/dist-packages/gensim/models/keyedvectors.py\u001b[0m in \u001b[0;36m__getitem__\u001b[0;34m(self, entities)\u001b[0m\n\u001b[1;32m    335\u001b[0m         \u001b[0;32mif\u001b[0m \u001b[0misinstance\u001b[0m\u001b[0;34m(\u001b[0m\u001b[0mentities\u001b[0m\u001b[0;34m,\u001b[0m \u001b[0mstring_types\u001b[0m\u001b[0;34m)\u001b[0m\u001b[0;34m:\u001b[0m\u001b[0;34m\u001b[0m\u001b[0;34m\u001b[0m\u001b[0m\n\u001b[1;32m    336\u001b[0m             \u001b[0;31m# allow calls like trained_model['office'], as a shorthand for trained_model[['office']]\u001b[0m\u001b[0;34m\u001b[0m\u001b[0;34m\u001b[0m\u001b[0;34m\u001b[0m\u001b[0m\n\u001b[0;32m--> 337\u001b[0;31m             \u001b[0;32mreturn\u001b[0m \u001b[0mself\u001b[0m\u001b[0;34m.\u001b[0m\u001b[0mget_vector\u001b[0m\u001b[0;34m(\u001b[0m\u001b[0mentities\u001b[0m\u001b[0;34m)\u001b[0m\u001b[0;34m\u001b[0m\u001b[0;34m\u001b[0m\u001b[0m\n\u001b[0m\u001b[1;32m    338\u001b[0m \u001b[0;34m\u001b[0m\u001b[0m\n\u001b[1;32m    339\u001b[0m         \u001b[0;32mreturn\u001b[0m \u001b[0mvstack\u001b[0m\u001b[0;34m(\u001b[0m\u001b[0;34m[\u001b[0m\u001b[0mself\u001b[0m\u001b[0;34m.\u001b[0m\u001b[0mget_vector\u001b[0m\u001b[0;34m(\u001b[0m\u001b[0mentity\u001b[0m\u001b[0;34m)\u001b[0m \u001b[0;32mfor\u001b[0m \u001b[0mentity\u001b[0m \u001b[0;32min\u001b[0m \u001b[0mentities\u001b[0m\u001b[0;34m]\u001b[0m\u001b[0;34m)\u001b[0m\u001b[0;34m\u001b[0m\u001b[0;34m\u001b[0m\u001b[0m\n",
            "\u001b[0;32m/usr/local/lib/python3.6/dist-packages/gensim/models/keyedvectors.py\u001b[0m in \u001b[0;36mget_vector\u001b[0;34m(self, word)\u001b[0m\n\u001b[1;32m    453\u001b[0m \u001b[0;34m\u001b[0m\u001b[0m\n\u001b[1;32m    454\u001b[0m     \u001b[0;32mdef\u001b[0m \u001b[0mget_vector\u001b[0m\u001b[0;34m(\u001b[0m\u001b[0mself\u001b[0m\u001b[0;34m,\u001b[0m \u001b[0mword\u001b[0m\u001b[0;34m)\u001b[0m\u001b[0;34m:\u001b[0m\u001b[0;34m\u001b[0m\u001b[0;34m\u001b[0m\u001b[0m\n\u001b[0;32m--> 455\u001b[0;31m         \u001b[0;32mreturn\u001b[0m \u001b[0mself\u001b[0m\u001b[0;34m.\u001b[0m\u001b[0mword_vec\u001b[0m\u001b[0;34m(\u001b[0m\u001b[0mword\u001b[0m\u001b[0;34m)\u001b[0m\u001b[0;34m\u001b[0m\u001b[0;34m\u001b[0m\u001b[0m\n\u001b[0m\u001b[1;32m    456\u001b[0m \u001b[0;34m\u001b[0m\u001b[0m\n\u001b[1;32m    457\u001b[0m     \u001b[0;32mdef\u001b[0m \u001b[0mwords_closer_than\u001b[0m\u001b[0;34m(\u001b[0m\u001b[0mself\u001b[0m\u001b[0;34m,\u001b[0m \u001b[0mw1\u001b[0m\u001b[0;34m,\u001b[0m \u001b[0mw2\u001b[0m\u001b[0;34m)\u001b[0m\u001b[0;34m:\u001b[0m\u001b[0;34m\u001b[0m\u001b[0;34m\u001b[0m\u001b[0m\n",
            "\u001b[0;32m/usr/local/lib/python3.6/dist-packages/gensim/models/keyedvectors.py\u001b[0m in \u001b[0;36mword_vec\u001b[0;34m(self, word, use_norm)\u001b[0m\n\u001b[1;32m   1989\u001b[0m                 \u001b[0;32mreturn\u001b[0m \u001b[0mword_vec\u001b[0m \u001b[0;34m/\u001b[0m \u001b[0mmax\u001b[0m\u001b[0;34m(\u001b[0m\u001b[0;36m1\u001b[0m\u001b[0;34m,\u001b[0m \u001b[0mngrams_found\u001b[0m\u001b[0;34m)\u001b[0m\u001b[0;34m\u001b[0m\u001b[0;34m\u001b[0m\u001b[0m\n\u001b[1;32m   1990\u001b[0m             \u001b[0;32melse\u001b[0m\u001b[0;34m:\u001b[0m  \u001b[0;31m# No ngrams of the word are present in self.ngrams\u001b[0m\u001b[0;34m\u001b[0m\u001b[0;34m\u001b[0m\u001b[0m\n\u001b[0;32m-> 1991\u001b[0;31m                 \u001b[0;32mraise\u001b[0m \u001b[0mKeyError\u001b[0m\u001b[0;34m(\u001b[0m\u001b[0;34m'all ngrams for word %s absent from model'\u001b[0m \u001b[0;34m%\u001b[0m \u001b[0mword\u001b[0m\u001b[0;34m)\u001b[0m\u001b[0;34m\u001b[0m\u001b[0;34m\u001b[0m\u001b[0m\n\u001b[0m\u001b[1;32m   1992\u001b[0m \u001b[0;34m\u001b[0m\u001b[0m\n\u001b[1;32m   1993\u001b[0m     \u001b[0;32mdef\u001b[0m \u001b[0minit_sims\u001b[0m\u001b[0;34m(\u001b[0m\u001b[0mself\u001b[0m\u001b[0;34m,\u001b[0m \u001b[0mreplace\u001b[0m\u001b[0;34m=\u001b[0m\u001b[0;32mFalse\u001b[0m\u001b[0;34m)\u001b[0m\u001b[0;34m:\u001b[0m\u001b[0;34m\u001b[0m\u001b[0;34m\u001b[0m\u001b[0m\n",
            "\u001b[0;31mKeyError\u001b[0m: 'all ngrams for word ẹ̀wù absent from model'"
          ]
        }
      ]
    },
    {
      "cell_type": "code",
      "metadata": {
        "id": "zXwuvYVbFUhd",
        "colab_type": "code",
        "colab": {
          "base_uri": "https://localhost:8080/",
          "height": 35
        },
        "outputId": "d6758242-88c9-4522-ecaf-93f935f6a62a"
      },
      "source": [
        "print(pretrained_model.wv.similarity('aṣo','ẹ̀wù'))"
      ],
      "execution_count": 28,
      "outputs": [
        {
          "output_type": "stream",
          "text": [
            "0.0286972\n"
          ],
          "name": "stdout"
        }
      ]
    },
    {
      "cell_type": "code",
      "metadata": {
        "id": "0oiqAP-w-hRZ",
        "colab_type": "code",
        "colab": {
          "base_uri": "https://localhost:8080/",
          "height": 35
        },
        "outputId": "25feeabd-8edb-4b94-ab53-426c834a3daf"
      },
      "source": [
        "print(trained_model.wv.similarity('aṣo','ṣòkòtò'))"
      ],
      "execution_count": 29,
      "outputs": [
        {
          "output_type": "stream",
          "text": [
            "-0.00887258\n"
          ],
          "name": "stdout"
        }
      ]
    },
    {
      "cell_type": "code",
      "metadata": {
        "id": "-XobZpXpFgrE",
        "colab_type": "code",
        "colab": {
          "base_uri": "https://localhost:8080/",
          "height": 35
        },
        "outputId": "544deac7-108d-4f33-f2da-2f85b5aebccc"
      },
      "source": [
        "print(pretrained_model.wv.similarity('aṣo','ṣòkòtò'))"
      ],
      "execution_count": 30,
      "outputs": [
        {
          "output_type": "stream",
          "text": [
            "0.210958\n"
          ],
          "name": "stdout"
        }
      ]
    },
    {
      "cell_type": "code",
      "metadata": {
        "id": "vKFziTL5-wXJ",
        "colab_type": "code",
        "colab": {
          "base_uri": "https://localhost:8080/",
          "height": 35
        },
        "outputId": "f0ed9bcc-f6b5-4b97-bc18-689a36cdd553"
      },
      "source": [
        "print(trained_model.wv.similarity('bùbá','ṣòkòtò'))"
      ],
      "execution_count": 34,
      "outputs": [
        {
          "output_type": "stream",
          "text": [
            "0.0588443\n"
          ],
          "name": "stdout"
        }
      ]
    },
    {
      "cell_type": "code",
      "metadata": {
        "id": "nxzTO1lGF22e",
        "colab_type": "code",
        "colab": {
          "base_uri": "https://localhost:8080/",
          "height": 35
        },
        "outputId": "f02493f4-8f96-4a96-9e74-41bfe50edbc9"
      },
      "source": [
        "print(pretrained_model.wv.similarity('bùbá','ṣòkòtò'))"
      ],
      "execution_count": 35,
      "outputs": [
        {
          "output_type": "stream",
          "text": [
            "0.499416\n"
          ],
          "name": "stdout"
        }
      ]
    },
    {
      "cell_type": "code",
      "metadata": {
        "id": "7Flj0TfsAgIs",
        "colab_type": "code",
        "colab": {
          "base_uri": "https://localhost:8080/",
          "height": 35
        },
        "outputId": "46b9d882-b58e-47d0-f6dc-de3add98a2f8"
      },
      "source": [
        "print(trained_model.wv.similarity('ọmọdé','àgbàlagbà'))"
      ],
      "execution_count": 36,
      "outputs": [
        {
          "output_type": "stream",
          "text": [
            "-0.048972\n"
          ],
          "name": "stdout"
        }
      ]
    },
    {
      "cell_type": "code",
      "metadata": {
        "id": "wzoW365IAsJc",
        "colab_type": "code",
        "colab": {
          "base_uri": "https://localhost:8080/",
          "height": 35
        },
        "outputId": "fd524084-1fb1-4cf2-8137-bda89863df68"
      },
      "source": [
        "print(pretrained_model.wv.similarity('ọmọdé','àgbàlagbà'))"
      ],
      "execution_count": 37,
      "outputs": [
        {
          "output_type": "stream",
          "text": [
            "0.608888\n"
          ],
          "name": "stdout"
        }
      ]
    }
  ]
}